{
 "cells": [
  {
   "cell_type": "code",
   "execution_count": 1,
   "metadata": {},
   "outputs": [],
   "source": [
    "import cv2\n",
    "import numpy as np"
   ]
  },
  {
   "cell_type": "code",
   "execution_count": 31,
   "metadata": {},
   "outputs": [],
   "source": [
    "image = cv2.imread(r'S:/IMAGES/WARANGAL/DSC_4417.jpg')\n",
    "cv2.imshow('original_image',image)\n",
    "\n",
    "cv2.waitKey(0)\n",
    "cv2.destroyWindow('original_image')\n",
    "\n",
    "w,h = image.shape[:2]"
   ]
  },
  {
   "cell_type": "code",
   "execution_count": 10,
   "metadata": {},
   "outputs": [
    {
     "name": "stdout",
     "output_type": "stream",
     "text": [
      "(3000, 4496, 3)\n",
      "(1, 3, 416, 416)\n",
      "(416, 416, 3)\n"
     ]
    }
   ],
   "source": [
    "blob = cv2.dnn.blobFromImage(image,1./255,(416,416),swapRB = True,crop = False)\n",
    "\n",
    "print(image.shape)\n",
    "print(blob.shape)\n",
    "blob_to_show = blob[0,:,:,:].transpose(1,2,0)\n",
    "\n",
    "print(blob_to_show.shape)\n",
    "\n",
    "cv2.namedWindow('blob to show',cv2.WINDOW_NORMAL)\n",
    "cv2.imshow('blob to show',cv2.cvtColor(blob_to_show,cv2.COLOR_BGR2RGB))\n",
    "\n",
    "cv2.waitKey(0)\n",
    "cv2.destroyAllWindows()"
   ]
  },
  {
   "cell_type": "code",
   "execution_count": 12,
   "metadata": {},
   "outputs": [
    {
     "name": "stdout",
     "output_type": "stream",
     "text": [
      "['person', 'bicycle', 'car', 'motorbike', 'aeroplane', 'bus', 'train', 'truck', 'boat', 'traffic light', 'fire hydrant', 'stop sign', 'parking meter', 'bench', 'bird', 'cat', 'dog', 'horse', 'sheep', 'cow', 'elephant', 'bear', 'zebra', 'giraffe', 'backpack', 'umbrella', 'handbag', 'tie', 'suitcase', 'frisbee', 'skis', 'snowboard', 'sports ball', 'kite', 'baseball bat', 'baseball glove', 'skateboard', 'surfboard', 'tennis racket', 'bottle', 'wine glass', 'cup', 'fork', 'knife', 'spoon', 'bowl', 'banana', 'apple', 'sandwich', 'orange', 'broccoli', 'carrot', 'hot dog', 'pizza', 'donut', 'cake', 'chair', 'sofa', 'pottedplant', 'bed', 'diningtable', 'toilet', 'tvmonitor', 'laptop', 'mouse', 'remote', 'keyboard', 'cell phone', 'microwave', 'oven', 'toaster', 'sink', 'refrigerator', 'book', 'clock', 'vase', 'scissors', 'teddy bear', 'hair drier', 'toothbrush']\n"
     ]
    }
   ],
   "source": [
    "with open(r'coco.names') as f:\n",
    "    labels = [line.strip() for line in f]\n",
    "\n",
    "print(labels)"
   ]
  },
  {
   "cell_type": "code",
   "execution_count": 13,
   "metadata": {},
   "outputs": [],
   "source": [
    "network = cv2.dnn.readNetFromDarknet('yolov3.cfg','yolov3.weights')"
   ]
  },
  {
   "cell_type": "code",
   "execution_count": 23,
   "metadata": {},
   "outputs": [
    {
     "name": "stdout",
     "output_type": "stream",
     "text": [
      "['yolo_82', 'yolo_94', 'yolo_106']\n"
     ]
    }
   ],
   "source": [
    "layers_all = network.getLayerNames()\n",
    "\n",
    "output_layers = [layers_all[i[0] - 1] for i in network.getUnconnectedOutLayers()]\n",
    "\n",
    "print(output_layers)\n",
    "\n",
    "threshould = 0.7\n",
    "probability = 0.6\n",
    "\n",
    "color = np.random.randint(0,255,size = (len(labels),3), dtype= 'int')"
   ]
  },
  {
   "cell_type": "code",
   "execution_count": 25,
   "metadata": {},
   "outputs": [
    {
     "name": "stdout",
     "output_type": "stream",
     "text": [
      "[176 155 241]\n"
     ]
    }
   ],
   "source": [
    "print(color[1])"
   ]
  },
  {
   "cell_type": "code",
   "execution_count": 26,
   "metadata": {},
   "outputs": [
    {
     "name": "stdout",
     "output_type": "stream",
     "text": [
      "[array([[0.03390884, 0.04577182, 0.5032545 , ..., 0.        , 0.        ,\n",
      "        0.        ],\n",
      "       [0.04396925, 0.03170494, 0.31457514, ..., 0.        , 0.        ,\n",
      "        0.        ],\n",
      "       [0.04481798, 0.03409215, 0.80637383, ..., 0.        , 0.        ,\n",
      "        0.        ],\n",
      "       ...,\n",
      "       [0.95759195, 0.95279384, 0.3389671 , ..., 0.        , 0.        ,\n",
      "        0.        ],\n",
      "       [0.96100205, 0.95830345, 0.25674224, ..., 0.        , 0.        ,\n",
      "        0.        ],\n",
      "       [0.9696175 , 0.9636785 , 0.7716408 , ..., 0.        , 0.        ,\n",
      "        0.        ]], dtype=float32), array([[0.0178851 , 0.0263138 , 0.0524288 , ..., 0.        , 0.        ,\n",
      "        0.        ],\n",
      "       [0.01918899, 0.02361843, 0.33401898, ..., 0.        , 0.        ,\n",
      "        0.        ],\n",
      "       [0.02221562, 0.01763069, 0.08022236, ..., 0.        , 0.        ,\n",
      "        0.        ],\n",
      "       ...,\n",
      "       [0.97651714, 0.97480625, 0.04373187, ..., 0.        , 0.        ,\n",
      "        0.        ],\n",
      "       [0.9778502 , 0.97721744, 0.3445472 , ..., 0.        , 0.        ,\n",
      "        0.        ],\n",
      "       [0.97684413, 0.97894704, 0.08086113, ..., 0.        , 0.        ,\n",
      "        0.        ]], dtype=float32), array([[0.01015547, 0.00530051, 0.0192764 , ..., 0.        , 0.        ,\n",
      "        0.        ],\n",
      "       [0.01028466, 0.01158756, 0.02248152, ..., 0.        , 0.        ,\n",
      "        0.        ],\n",
      "       [0.01027744, 0.00860751, 0.1920121 , ..., 0.        , 0.        ,\n",
      "        0.        ],\n",
      "       ...,\n",
      "       [0.9897388 , 0.989957  , 0.01675081, ..., 0.        , 0.        ,\n",
      "        0.        ],\n",
      "       [0.99054366, 0.986811  , 0.01979814, ..., 0.        , 0.        ,\n",
      "        0.        ],\n",
      "       [0.98774993, 0.9898126 , 0.14899386, ..., 0.        , 0.        ,\n",
      "        0.        ]], dtype=float32)]\n"
     ]
    }
   ],
   "source": [
    "network.setInput(blob)\n",
    "output = network.forward(output_layers)\n",
    "print(output)"
   ]
  },
  {
   "cell_type": "code",
   "execution_count": 39,
   "metadata": {},
   "outputs": [],
   "source": [
    "bounding_boxes = []\n",
    "probabilities = []\n",
    "class_numbers = []\n",
    "\n",
    "for i in output:\n",
    "    for detected_object in i:\n",
    "        scores = detected_object[:5]\n",
    "        indicies_of_maxscore = np.argmax(scores)\n",
    "        class_scores = scores[indicies_of_maxscore]\n",
    "        \n",
    "        \n",
    "        if class_scores>probability:\n",
    "            box_current = detected_object[0:4] * ([w,h,w,h])\n",
    "            x_center,y_center,height,width = box_current\n",
    "            x_min = (x_center - (width/2))\n",
    "            y_min = (y_center - (height/2))\n",
    "            \n",
    "            bounding_boxes.append([x_min,y_min,int(width),int(height)])\n",
    "            probabilities.append(float(class_scores))\n",
    "            class_numbers.append(indicies_of_maxscore)"
   ]
  },
  {
   "cell_type": "code",
   "execution_count": 42,
   "metadata": {},
   "outputs": [],
   "source": [
    "nmsboxes = cv2.dnn.NMSBoxes(bounding_boxes,probabilities,probability,threshould)"
   ]
  },
  {
   "cell_type": "code",
   "execution_count": null,
   "metadata": {},
   "outputs": [],
   "source": []
  }
 ],
 "metadata": {
  "kernelspec": {
   "display_name": "TENSORFLOW",
   "language": "python",
   "name": "sai"
  },
  "language_info": {
   "codemirror_mode": {
    "name": "ipython",
    "version": 3
   },
   "file_extension": ".py",
   "mimetype": "text/x-python",
   "name": "python",
   "nbconvert_exporter": "python",
   "pygments_lexer": "ipython3",
   "version": "3.7.6"
  }
 },
 "nbformat": 4,
 "nbformat_minor": 4
}
