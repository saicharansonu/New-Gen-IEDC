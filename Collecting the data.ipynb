{
 "cells": [
  {
   "cell_type": "code",
   "execution_count": 2,
   "metadata": {},
   "outputs": [],
   "source": [
    "import numpy as np\n",
    "import cv2"
   ]
  },
  {
   "cell_type": "code",
   "execution_count": 3,
   "metadata": {},
   "outputs": [],
   "source": [
    "classifier = cv2.CascadeClassifier(r\"C:/Users/Saicharan/haarcascade_frontalface_default.xml\")"
   ]
  },
  {
   "cell_type": "code",
   "execution_count": 4,
   "metadata": {},
   "outputs": [
    {
     "name": "stderr",
     "output_type": "stream",
     "text": [
      "<>:5: SyntaxWarning: \"is\" with a literal. Did you mean \"==\"?\n",
      "<>:5: SyntaxWarning: \"is\" with a literal. Did you mean \"==\"?\n",
      "<ipython-input-4-cf2509ac01a3>:5: SyntaxWarning: \"is\" with a literal. Did you mean \"==\"?\n",
      "  if faces is ():\n"
     ]
    }
   ],
   "source": [
    "def resized_face(img):\n",
    "    \n",
    "    faces = classifier.detectMultiScale(img,1.2,4)\n",
    "    \n",
    "    if faces is ():\n",
    "        return None\n",
    "    \n",
    "    for x,y,w,h in faces:\n",
    "        x = x - 10\n",
    "        y = y - 10\n",
    "        converted_img = img[y: y+h+50,x:x+w+50]\n",
    "        \n",
    "        return converted_img"
   ]
  },
  {
   "cell_type": "code",
   "execution_count": 7,
   "metadata": {},
   "outputs": [
    {
     "name": "stdout",
     "output_type": "stream",
     "text": [
      "collecting completed.\n"
     ]
    }
   ],
   "source": [
    "capture = cv2.VideoCapture(0)\n",
    "count = 0\n",
    "\n",
    "while True:\n",
    "    ret,frame = capture.read()\n",
    "    if resized_face(frame) is not None:\n",
    "        count += 1\n",
    "        face = cv2.resize(resized_face(frame),(400,400))\n",
    "        file_path = r'C:\\Users\\Saicharan\\MY PROJECTS\\Face recognition\\data\\train\\Rohith\\rohith' + str(count) + '.jpg'\n",
    "        cv2.imwrite(file_path,face)\n",
    "        cv2.putText(face,str(count),(50,50),cv2.FONT_HERSHEY_SCRIPT_SIMPLEX,1,(0,255,0),2)\n",
    "        cv2.imshow('images collector',face)\n",
    "    else:\n",
    "        print('face not found')\n",
    "        pass\n",
    "    if cv2.waitKey(1)==13 or count ==150:\n",
    "        break\n",
    "\n",
    "capture.release()\n",
    "cv2.destroyAllWindows()\n",
    "print('collecting completed.')"
   ]
  },
  {
   "cell_type": "code",
   "execution_count": null,
   "metadata": {},
   "outputs": [],
   "source": []
  }
 ],
 "metadata": {
  "kernelspec": {
   "display_name": "Sonu_GPU",
   "language": "python",
   "name": "sonu_gpu"
  },
  "language_info": {
   "codemirror_mode": {
    "name": "ipython",
    "version": 3
   },
   "file_extension": ".py",
   "mimetype": "text/x-python",
   "name": "python",
   "nbconvert_exporter": "python",
   "pygments_lexer": "ipython3",
   "version": "3.8.5"
  }
 },
 "nbformat": 4,
 "nbformat_minor": 4
}
